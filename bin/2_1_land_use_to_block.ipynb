{
 "cells": [
  {
   "cell_type": "code",
   "execution_count": 1,
   "metadata": {},
   "outputs": [
    {
     "name": "stderr",
     "output_type": "stream",
     "text": [
      "/anaconda3/lib/python3.6/site-packages/ipykernel_launcher.py:13: DeprecationWarning: Collection.__next__() is buggy and will be removed in Fiona 2.0. Switch to `next(iter(collection))`.\n",
      "  del sys.path[0]\n",
      "/anaconda3/lib/python3.6/site-packages/ipykernel_launcher.py:25: DeprecationWarning: Collection.__next__() is buggy and will be removed in Fiona 2.0. Switch to `next(iter(collection))`.\n"
     ]
    }
   ],
   "source": [
    "import pandas as pd\n",
    "import numpy as np\n",
    "import fiona\n",
    "from shapely.geometry import shape\n",
    "from shapely.geometry.polygon import Polygon\n",
    "from shapely.geometry import Point\n",
    "\n",
    "block = pd.read_csv('..//data//census//tl_2010_06075_tabblock10.csv')\n",
    "\n",
    "# Create list and path to shapefile\n",
    "block_list = []\n",
    "lon, lat = [], []\n",
    "shape_loc = 'Land Use//geo_export_d1237e9c-8636-4824-8637-a2a9e5f4b343.shp'\n",
    "c_file = fiona.open(\"..//data//sf_open//{}\".format(shape_loc))\n",
    "pol = c_file.next()\n",
    "\n",
    "for i in range(0,155467):\n",
    "    \n",
    "    geom = shape(pol['geometry'])\n",
    "    block_list.append(dict(pol['properties']))\n",
    "    try:\n",
    "        lon.append(geom.exterior.centroid.xy[0][0])\n",
    "        lat.append(geom.exterior.centroid.xy[1][0])\n",
    "    except:\n",
    "        lon.append(np.nan)\n",
    "        lat.append(np.nan)\n",
    "    pol = c_file.next()\n",
    "    \n",
    "    \n",
    "c_file.close()\n",
    "    \n",
    "block_df = pd.DataFrame(block_list)\n",
    "block_df['longitude'] = lon\n",
    "block_df['latitude'] = lat\n",
    "#block_df.to_csv('..//data//created//all_blocks.csv', index=False)"
   ]
  },
  {
   "cell_type": "code",
   "execution_count": 2,
   "metadata": {},
   "outputs": [],
   "source": [
    "sq_ft_use = pd.pivot_table(block_df,\n",
    "                           index=['block_num',\n",
    "                                  'latitude',\n",
    "                                  'longitude'],\n",
    "                           columns='landuse',\n",
    "                           values = 'bldgsqft').reset_index()\n",
    "\n",
    "sq_ft_use = sq_ft_use.fillna(0)\n",
    "\n",
    "sq_ft_use = sq_ft_use.groupby('block_num').mean().reset_index()\n",
    "\n",
    "sq_ft_use = sq_ft_use.loc[:,[\n",
    "    \n",
    "    'block_num',\n",
    "    'RESIDENT',\n",
    "    'MIXRES',\n",
    "    'RETAIL/ENT',\n",
    "    'CIE',\n",
    "    'MED',\n",
    "    'MIPS',\n",
    "    'PDR',\n",
    "    'VISITOR',\n",
    "    'VACANT',\n",
    "    #'ROW',\n",
    "    #'OPENSPACE',\n",
    "    'latitude',\n",
    "    'longitude'\n",
    "]]\n",
    "\n",
    "sq_ft_use.columns = [\n",
    "    \n",
    "    'block_num', \n",
    "    'res_sqft',\n",
    "    'mixres_sqft',\n",
    "    'retail_sqft',\n",
    "    'cie_sqft',\n",
    "    'medical_sqft',\n",
    "    'office_sqft',\n",
    "    'indus_sqft',\n",
    "    'hotel_sqft',\n",
    "    'vacant_sqft',\n",
    "    #'row_sqft',\n",
    "    #'openspace_sqft',\n",
    "    'latitude',\n",
    "    'longitude'\n",
    "]"
   ]
  },
  {
   "cell_type": "code",
   "execution_count": 13,
   "metadata": {},
   "outputs": [
    {
     "name": "stderr",
     "output_type": "stream",
     "text": [
      "/anaconda3/lib/python3.6/site-packages/ipykernel_launcher.py:7: DeprecationWarning: Collection.__next__() is buggy and will be removed in Fiona 2.0. Switch to `next(iter(collection))`.\n",
      "  import sys\n",
      "/anaconda3/lib/python3.6/site-packages/ipykernel_launcher.py:17: DeprecationWarning: Collection.__next__() is buggy and will be removed in Fiona 2.0. Switch to `next(iter(collection))`.\n"
     ]
    }
   ],
   "source": [
    "block_id = []\n",
    "shape_loc = 'Census 2000_ Blocks for San Francisco (no water)//geo_export_10e804e3-5dd0-4986-9466-956443c0fd64.shp'\n",
    "for index, row in sq_ft_use.iterrows():\n",
    "    \n",
    "    # open the shapefile and select the first record\n",
    "    c_file = fiona.open(\"..//data//sf_open//{}\".format(shape_loc))\n",
    "    pol = c_file.next()\n",
    "    geom = shape(pol['geometry'])\n",
    "\n",
    "    # create the first test point\n",
    "    point_test = Point((row['longitude'],row['latitude']))\n",
    "    \n",
    "    try:\n",
    "        \n",
    "        # iterate through all the blocks until a match is found\n",
    "        while geom.contains(point_test) == False:\n",
    "            pol = c_file.next()\n",
    "            geom = shape(pol['geometry'])\n",
    "        \n",
    "        # append the block id to the empty list\n",
    "        block_id.append(block['GEOID10'][int(pol['id'])])\n",
    "        \n",
    "    except:\n",
    "        block_id.append(np.nan)\n",
    "        \n",
    "    c_file.close()"
   ]
  },
  {
   "cell_type": "code",
   "execution_count": 14,
   "metadata": {},
   "outputs": [],
   "source": [
    "sq_ft_use['block_id'] = block_id"
   ]
  },
  {
   "cell_type": "code",
   "execution_count": 18,
   "metadata": {},
   "outputs": [],
   "source": [
    "sq_ft_use.to_csv('..//data//created//land_use_blockid.csv', index=False)"
   ]
  },
  {
   "cell_type": "code",
   "execution_count": null,
   "metadata": {},
   "outputs": [],
   "source": []
  }
 ],
 "metadata": {
  "kernelspec": {
   "display_name": "Python 3",
   "language": "python",
   "name": "python3"
  },
  "language_info": {
   "codemirror_mode": {
    "name": "ipython",
    "version": 3
   },
   "file_extension": ".py",
   "mimetype": "text/x-python",
   "name": "python",
   "nbconvert_exporter": "python",
   "pygments_lexer": "ipython3",
   "version": "3.6.5"
  }
 },
 "nbformat": 4,
 "nbformat_minor": 2
}
