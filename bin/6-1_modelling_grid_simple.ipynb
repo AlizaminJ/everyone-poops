{
 "cells": [
  {
   "cell_type": "code",
   "execution_count": 2,
   "metadata": {},
   "outputs": [],
   "source": [
    "import warnings\n",
    "import pickle\n",
    "import pandas as pd\n",
    "import numpy as np\n",
    "from sklearn.exceptions import UndefinedMetricWarning\n",
    "from sklearn.ensemble import RandomForestClassifier\n",
    "from sklearn.model_selection import GridSearchCV\n",
    "from sklearn.metrics import make_scorer, accuracy_score, recall_score, precision_score, f1_score\n",
    "from sklearn.model_selection import StratifiedKFold\n",
    "from sklearn.preprocessing import StandardScaler\n",
    "from sklearn.preprocessing import Imputer\n",
    "from sklearn.model_selection import train_test_split\n",
    "\n",
    "warnings.filterwarnings(action='ignore', category=UndefinedMetricWarning)\n",
    "\n",
    "data = pd.read_hdf('..//data//model//data_model_clus.h5')"
   ]
  },
  {
   "cell_type": "code",
   "execution_count": 76,
   "metadata": {},
   "outputs": [],
   "source": [
    "X = data[[\n",
    "    \n",
    " 'Tenderloin',\n",
    " 'South of Market',\n",
    " 'Downtown',\n",
    " 'Inner Mission',\n",
    " 'Van Ness/Civic Center',\n",
    " 'Duboce Triangle',\n",
    " 'Haight Ashbury',\n",
    " 'Miraloma Park',\n",
    " 'Financial District/Barbary Coast',\n",
    " 'Silver Terrace', \n",
    "    \n",
    " 'winter',\n",
    " 'spring',\n",
    " 'summer',\n",
    " 'fall',\n",
    " 'hour_0',\n",
    " #'hour_6',\n",
    " 'hour_12',\n",
    " #'hour_18',\n",
    " 'dow_0',\n",
    " 'dow_1',\n",
    " 'dow_2',\n",
    " 'dow_3',\n",
    " 'dow_4',\n",
    " 'dow_5',\n",
    " 'dow_6',\n",
    " 'UNIVPROX',\n",
    " 'SIGNALIZED',\n",
    " 'PKGMETERS',\n",
    " 'MAXPCTSLPE',\n",
    " 'MODEL6_VOL',\n",
    " 'HH_PEDMODE',\n",
    " 'PCOL_04_09',\n",
    " 'PCOL_RATE',\n",
    " 'HH_income',\n",
    " 'total_pop',\n",
    " 'unemp_20_24',\n",
    " 'unemp_25_44',\n",
    " 'unemp_45_54',\n",
    " 'unemp_55_64',\n",
    " 'white',\n",
    " 'black',\n",
    " 'asian',\n",
    " 'other'\n",
    "]]\n",
    "\n",
    "y = data['poop']\n",
    "\n",
    "X_train, X_test, y_train, y_test = train_test_split(X, y, test_size=0.2, random_state=42,stratify=y)\n",
    "\n",
    "X_train_imp = Imputer().fit_transform(X_train)\n",
    "X_train_scale = StandardScaler().fit_transform(X_train_imp)\n",
    "\n",
    "X_test_imp = Imputer().fit_transform(X_test)\n",
    "X_test_scale = StandardScaler().fit_transform(X_test_imp)"
   ]
  },
  {
   "cell_type": "code",
   "execution_count": 77,
   "metadata": {},
   "outputs": [],
   "source": [
    "small_rf = RandomForestClassifier(n_jobs=-1,\n",
    "                                  class_weight={1: 5, 0: 1},\n",
    "                                  criterion='gini', \n",
    "                                  max_depth=6, \n",
    "                                  n_estimators=115)\n",
    "small_rf = small_rf.fit(X_train_scale, y_train)"
   ]
  },
  {
   "cell_type": "code",
   "execution_count": null,
   "metadata": {},
   "outputs": [],
   "source": [
    "with open('..//models//random_forest.pkl', 'wb') as fid:\n",
    "    pickle.dump(gnb, fid)"
   ]
  }
 ],
 "metadata": {
  "kernelspec": {
   "display_name": "Python 3",
   "language": "python",
   "name": "python3"
  },
  "language_info": {
   "codemirror_mode": {
    "name": "ipython",
    "version": 3
   },
   "file_extension": ".py",
   "mimetype": "text/x-python",
   "name": "python",
   "nbconvert_exporter": "python",
   "pygments_lexer": "ipython3",
   "version": "3.6.5"
  }
 },
 "nbformat": 4,
 "nbformat_minor": 2
}
