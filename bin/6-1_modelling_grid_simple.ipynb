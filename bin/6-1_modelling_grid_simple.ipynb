{
 "cells": [
  {
   "cell_type": "code",
   "execution_count": 24,
   "metadata": {},
   "outputs": [],
   "source": [
    "import warnings\n",
    "import pandas as pd\n",
    "import numpy as np\n",
    "from sklearn.exceptions import UndefinedMetricWarning\n",
    "from sklearn.ensemble import RandomForestClassifier\n",
    "from sklearn.model_selection import GridSearchCV\n",
    "from sklearn.metrics import make_scorer, accuracy_score, recall_score, precision_score, f1_score\n",
    "from sklearn.model_selection import StratifiedKFold\n",
    "from sklearn.preprocessing import StandardScaler\n",
    "from sklearn.preprocessing import Imputer\n",
    "\n",
    "warnings.filterwarnings(action='ignore', category=UndefinedMetricWarning)\n",
    "\n",
    "data = pd.read_csv('..//data//model//data_model_clus.csv')"
   ]
  },
  {
   "cell_type": "code",
   "execution_count": 25,
   "metadata": {},
   "outputs": [],
   "source": [
    "X = data[[\n",
    "    \n",
    " 'Tenderloin',\n",
    " 'South of Market',\n",
    " 'Downtown',\n",
    " 'Inner Mission',\n",
    "    \n",
    " 'winter',\n",
    " 'spring',\n",
    " 'summer',\n",
    " 'fall',\n",
    " 'hour_0',\n",
    " 'hour_6',\n",
    " 'hour_12',\n",
    " 'hour_18',\n",
    " 'dow_0',\n",
    " 'dow_1',\n",
    " 'dow_2',\n",
    " 'dow_3',\n",
    " 'dow_4',\n",
    " 'dow_5',\n",
    " 'dow_6',\n",
    " 'UNIVPROX',\n",
    " 'SIGNALIZED',\n",
    " 'PKGMETERS',\n",
    " 'MAXPCTSLPE',\n",
    " 'MODEL6_VOL',\n",
    " 'HH_PEDMODE',\n",
    " 'PCOL_04_09',\n",
    " 'PCOL_RATE',\n",
    " 'HH_income'\n",
    "]]\n",
    "\n",
    "y = data['poop']\n",
    "\n",
    "X_imp = Imputer().fit_transform(X)\n",
    "X_scale = StandardScaler().fit_transform(X_imp)"
   ]
  },
  {
   "cell_type": "code",
   "execution_count": 28,
   "metadata": {},
   "outputs": [],
   "source": [
    "scoring = {'AUC': 'roc_auc',\n",
    "          #'F1': make_scorer(f1_score)\n",
    "          #'Accuracy': make_scorer(accuracy_score),\n",
    "          'Precision': make_scorer(precision_score),\n",
    "          'Recall': make_scorer(recall_score)\n",
    "          }\n",
    "\n",
    "# random forest\n",
    "gs_rf = GridSearchCV(RandomForestClassifier(class_weight='balanced', n_jobs=-1),\n",
    "                     param_grid = {'criterion':['gini', 'entropy'],\n",
    "                                   'max_depth':range(4,10,2),\n",
    "                                   'n_estimators':range(60,120,15)\n",
    "                                   }, \n",
    "                     scoring=scoring,\n",
    "                     cv=StratifiedKFold(),\n",
    "                     refit='Precision')\n",
    "gs_rf.fit(X_scale, y)\n",
    "rf_results = gs_rf.cv_results_"
   ]
  },
  {
   "cell_type": "code",
   "execution_count": 29,
   "metadata": {},
   "outputs": [
    {
     "name": "stdout",
     "output_type": "stream",
     "text": [
      "\n",
      "Random Forest\n",
      "\n",
      "Best Params\n",
      "{'criterion': 'gini', 'max_depth': 4, 'n_estimators': 60}\n",
      "Recall\n",
      "0.8125764123773586\n",
      "Precision\n",
      "0.11893574763725999\n"
     ]
    }
   ],
   "source": [
    "print('\\nRandom Forest\\n\\nBest Params')\n",
    "print(gs_rf.best_params_)\n",
    "print('Recall')\n",
    "print(np.max(rf_results['mean_test_Recall']))\n",
    "print('Precision')\n",
    "print(np.max(rf_results['mean_test_Precision']))"
   ]
  },
  {
   "cell_type": "code",
   "execution_count": null,
   "metadata": {},
   "outputs": [],
   "source": []
  }
 ],
 "metadata": {
  "kernelspec": {
   "display_name": "Python 3",
   "language": "python",
   "name": "python3"
  },
  "language_info": {
   "codemirror_mode": {
    "name": "ipython",
    "version": 3
   },
   "file_extension": ".py",
   "mimetype": "text/x-python",
   "name": "python",
   "nbconvert_exporter": "python",
   "pygments_lexer": "ipython3",
   "version": "3.6.5"
  }
 },
 "nbformat": 4,
 "nbformat_minor": 2
}
