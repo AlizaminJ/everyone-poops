{
 "cells": [
  {
   "cell_type": "code",
   "execution_count": 1,
   "metadata": {},
   "outputs": [
    {
     "name": "stderr",
     "output_type": "stream",
     "text": [
      "/anaconda3/lib/python3.6/site-packages/IPython/core/interactiveshell.py:2785: DtypeWarning: Columns (18) have mixed types. Specify dtype option on import or set low_memory=False.\n",
      "  interactivity=interactivity, compiler=compiler, result=result)\n"
     ]
    }
   ],
   "source": [
    "import pandas as pd\n",
    "import numpy as np\n",
    "\n",
    "# load data\n",
    "data = pd.read_csv('311_cases.csv')\n",
    "\n",
    "# select human waster\n",
    "data_use = data[data['Request Type']=='Human Waste']\n",
    "data_use = data_use[data_use['Longitude']>-140]\n",
    "data_use = data_use[data_use['Latitude']!=0]\n",
    "\n",
    "# convert datetime to rounded datetime\n",
    "data_use['Opened'] = pd.to_datetime(data['Opened'])\n",
    "data_use['Opened_rnd'] = data_use['Opened'].apply(lambda x: x.replace(microsecond=0,second=0,minute=0))\n",
    "\n",
    "# export to csv\n",
    "data_use.to_csv('311_cases_clean.csv')"
   ]
  },
  {
   "cell_type": "code",
   "execution_count": null,
   "metadata": {},
   "outputs": [],
   "source": []
  }
 ],
 "metadata": {
  "kernelspec": {
   "display_name": "Python 3",
   "language": "python",
   "name": "python3"
  },
  "language_info": {
   "codemirror_mode": {
    "name": "ipython",
    "version": 3
   },
   "file_extension": ".py",
   "mimetype": "text/x-python",
   "name": "python",
   "nbconvert_exporter": "python",
   "pygments_lexer": "ipython3",
   "version": "3.6.5"
  }
 },
 "nbformat": 4,
 "nbformat_minor": 2
}
