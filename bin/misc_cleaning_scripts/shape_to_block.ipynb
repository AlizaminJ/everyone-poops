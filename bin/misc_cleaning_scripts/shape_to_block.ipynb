{
 "cells": [
  {
   "cell_type": "code",
   "execution_count": 1,
   "metadata": {},
   "outputs": [],
   "source": [
    "import pandas as pd\n",
    "import numpy as np\n",
    "import fiona\n",
    "from shapely.geometry import shape\n",
    "from shapely.geometry.polygon import Polygon\n",
    "from shapely.geometry.multipolygon import MultiPolygon\n",
    "from shapely.geometry import Point\n",
    "\n",
    "block = pd.read_csv('data_census//tl_2010_06075_tabblock10.csv')\n",
    "neigh_names = pd.read_csv('data_sf_open//Realtor_Neighborhoods.csv')"
   ]
  },
  {
   "cell_type": "code",
   "execution_count": 2,
   "metadata": {},
   "outputs": [
    {
     "name": "stderr",
     "output_type": "stream",
     "text": [
      "/anaconda3/lib/python3.6/site-packages/ipykernel_launcher.py:6: DeprecationWarning: Collection.__next__() is buggy and will be removed in Fiona 2.0. Switch to `next(iter(collection))`.\n",
      "  \n",
      "/anaconda3/lib/python3.6/site-packages/ipykernel_launcher.py:13: DeprecationWarning: Collection.__next__() is buggy and will be removed in Fiona 2.0. Switch to `next(iter(collection))`.\n",
      "  del sys.path[0]\n"
     ]
    }
   ],
   "source": [
    "neigh_id = []\n",
    "\n",
    "for index, row in block.iterrows():\n",
    "    \n",
    "    c = fiona.open(\"data_sf_open//geo_export_d30ee75b-b941-4798-962c-05f777bc2084.shx\")\n",
    "    pol = c.next()\n",
    "    geom = shape(pol['geometry'])\n",
    "\n",
    "    point_test = Point((row['INTPTLON10'],row['INTPTLAT10']))\n",
    "    \n",
    "    try:\n",
    "        while geom.contains(point_test) == False:\n",
    "            pol = c.next()\n",
    "            geom = shape(pol['geometry'])\n",
    "        neigh_id.append(pol['id'])\n",
    "        \n",
    "    except:\n",
    "        neigh_id.append(np.nan)"
   ]
  },
  {
   "cell_type": "code",
   "execution_count": 26,
   "metadata": {},
   "outputs": [],
   "source": [
    "neigh_dict = dict(zip([str(i) for i in neigh_names.index], neigh_names.nbrhood))\n",
    "block_neigh = pd.DataFrame({'block_fips':block['GEOID10'], 'nbrhood_id':neigh_id})\n",
    "block_neigh['nbrhood_name'] = block_neigh['nbrhood_id'].map(neigh_dict)"
   ]
  },
  {
   "cell_type": "code",
   "execution_count": 27,
   "metadata": {},
   "outputs": [],
   "source": [
    "block_neigh.to_csv('block_neigh.csv', index = False)"
   ]
  },
  {
   "cell_type": "code",
   "execution_count": null,
   "metadata": {},
   "outputs": [],
   "source": []
  }
 ],
 "metadata": {
  "kernelspec": {
   "display_name": "Python 3",
   "language": "python",
   "name": "python3"
  },
  "language_info": {
   "codemirror_mode": {
    "name": "ipython",
    "version": 3
   },
   "file_extension": ".py",
   "mimetype": "text/x-python",
   "name": "python",
   "nbconvert_exporter": "python",
   "pygments_lexer": "ipython3",
   "version": "3.6.5"
  }
 },
 "nbformat": 4,
 "nbformat_minor": 2
}
