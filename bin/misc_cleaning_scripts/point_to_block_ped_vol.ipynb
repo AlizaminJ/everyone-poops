{
 "cells": [
  {
   "cell_type": "code",
   "execution_count": 57,
   "metadata": {},
   "outputs": [],
   "source": [
    "import pandas as pd\n",
    "import numpy as np\n",
    "import fiona\n",
    "from shapely.geometry import shape\n",
    "from shapely.geometry.polygon import Polygon\n",
    "from shapely.geometry.multipolygon import MultiPolygon\n",
    "from shapely.geometry import Point\n",
    "\n",
    "block = pd.read_csv('data_census//tl_2010_06075_tabblock10.csv')\n",
    "data = pd.read_csv('data_sf_open//MTA_pedvolume.csv')"
   ]
  },
  {
   "cell_type": "code",
   "execution_count": 61,
   "metadata": {},
   "outputs": [],
   "source": [
    "data['LON'] = data['the_geom'].str.split(' ', expand = True)[1].str.replace('(','').astype(float)\n",
    "data['LAT'] = data['the_geom'].str.split(' ', expand = True)[2].str.replace(')','').astype(float)"
   ]
  },
  {
   "cell_type": "code",
   "execution_count": 62,
   "metadata": {},
   "outputs": [
    {
     "name": "stderr",
     "output_type": "stream",
     "text": [
      "/anaconda3/lib/python3.6/site-packages/ipykernel_launcher.py:6: DeprecationWarning: Collection.__next__() is buggy and will be removed in Fiona 2.0. Switch to `next(iter(collection))`.\n",
      "  \n",
      "/anaconda3/lib/python3.6/site-packages/ipykernel_launcher.py:13: DeprecationWarning: Collection.__next__() is buggy and will be removed in Fiona 2.0. Switch to `next(iter(collection))`.\n",
      "  del sys.path[0]\n",
      "TopologyException: side location conflict at -122.45601400000001 37.752358999999998\n",
      "TopologyException: side location conflict at -122.42515399999999 37.732839999999996\n",
      "TopologyException: side location conflict at -122.45601400000001 37.752358999999998\n",
      "TopologyException: side location conflict at -122.37997 37.760224000000001\n",
      "TopologyException: side location conflict at -122.45601400000001 37.752358999999998\n",
      "TopologyException: side location conflict at -122.45601400000001 37.752358999999998\n",
      "TopologyException: side location conflict at -122.37997 37.760224000000001\n",
      "TopologyException: side location conflict at -122.37997 37.760224000000001\n",
      "TopologyException: side location conflict at -122.45601400000001 37.752358999999998\n",
      "TopologyException: side location conflict at -122.45601400000001 37.752358999999998\n",
      "TopologyException: side location conflict at -122.45601400000001 37.752358999999998\n",
      "TopologyException: side location conflict at -122.45601400000001 37.752358999999998\n",
      "TopologyException: side location conflict at -122.45601400000001 37.752358999999998\n",
      "TopologyException: side location conflict at -122.45601400000001 37.752358999999998\n",
      "TopologyException: side location conflict at -122.45601400000001 37.752358999999998\n",
      "TopologyException: side location conflict at -122.45601400000001 37.752358999999998\n",
      "TopologyException: side location conflict at -122.45601400000001 37.752358999999998\n",
      "TopologyException: side location conflict at -122.45601400000001 37.752358999999998\n",
      "TopologyException: side location conflict at -122.45601400000001 37.752358999999998\n",
      "TopologyException: side location conflict at -122.45601400000001 37.752358999999998\n",
      "TopologyException: side location conflict at -122.45601400000001 37.752358999999998\n",
      "TopologyException: side location conflict at -122.45601400000001 37.752358999999998\n",
      "TopologyException: side location conflict at -122.45601400000001 37.752358999999998\n",
      "TopologyException: side location conflict at -122.45601400000001 37.752358999999998\n",
      "TopologyException: side location conflict at -122.45601400000001 37.752358999999998\n",
      "TopologyException: side location conflict at -122.45601400000001 37.752358999999998\n",
      "TopologyException: side location conflict at -122.45601400000001 37.752358999999998\n",
      "TopologyException: side location conflict at -122.45601400000001 37.752358999999998\n",
      "TopologyException: side location conflict at -122.45601400000001 37.752358999999998\n",
      "TopologyException: side location conflict at -122.42515399999999 37.732839999999996\n",
      "TopologyException: side location conflict at -122.47349299999999 37.798060000000007\n",
      "TopologyException: side location conflict at -122.37997 37.760224000000001\n",
      "TopologyException: side location conflict at -122.45601400000001 37.752358999999998\n",
      "TopologyException: side location conflict at -122.42515399999999 37.732839999999996\n",
      "TopologyException: side location conflict at -122.37997 37.760224000000001\n"
     ]
    }
   ],
   "source": [
    "block_id = []\n",
    "\n",
    "for index, row in data.iterrows():\n",
    "    \n",
    "    c = fiona.open(\"data_sf_open//sf_blocks.shp\")\n",
    "    pol = c.next()\n",
    "    geom = shape(pol['geometry'])\n",
    "\n",
    "    point_test = Point((row['LON'],row['LAT']))\n",
    "    \n",
    "    try:\n",
    "        while geom.contains(point_test) == False:\n",
    "            pol = c.next()\n",
    "            geom = shape(pol['geometry'])\n",
    "        block_id.append(block['GEOID10'][int(pol['id'])])\n",
    "        \n",
    "    except:\n",
    "        block_id.append(np.nan)"
   ]
  },
  {
   "cell_type": "code",
   "execution_count": 65,
   "metadata": {},
   "outputs": [],
   "source": [
    "data['block_fips'] = block_id"
   ]
  },
  {
   "cell_type": "code",
   "execution_count": 66,
   "metadata": {},
   "outputs": [],
   "source": [
    "data.to_csv('ped_vol_blockid.csv', index = False)"
   ]
  },
  {
   "cell_type": "code",
   "execution_count": 1,
   "metadata": {},
   "outputs": [
    {
     "ename": "NameError",
     "evalue": "name 'data' is not defined",
     "output_type": "error",
     "traceback": [
      "\u001b[0;31m---------------------------------------------------------------------------\u001b[0m",
      "\u001b[0;31mNameError\u001b[0m                                 Traceback (most recent call last)",
      "\u001b[0;32m<ipython-input-1-c5d84736ba45>\u001b[0m in \u001b[0;36m<module>\u001b[0;34m()\u001b[0m\n\u001b[0;32m----> 1\u001b[0;31m \u001b[0mdata\u001b[0m\u001b[0;34m\u001b[0m\u001b[0m\n\u001b[0m",
      "\u001b[0;31mNameError\u001b[0m: name 'data' is not defined"
     ]
    }
   ],
   "source": [
    "data"
   ]
  },
  {
   "cell_type": "code",
   "execution_count": null,
   "metadata": {},
   "outputs": [],
   "source": []
  }
 ],
 "metadata": {
  "kernelspec": {
   "display_name": "Python 3",
   "language": "python",
   "name": "python3"
  },
  "language_info": {
   "codemirror_mode": {
    "name": "ipython",
    "version": 3
   },
   "file_extension": ".py",
   "mimetype": "text/x-python",
   "name": "python",
   "nbconvert_exporter": "python",
   "pygments_lexer": "ipython3",
   "version": "3.6.5"
  }
 },
 "nbformat": 4,
 "nbformat_minor": 2
}
