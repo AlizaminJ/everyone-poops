{
 "cells": [
  {
   "cell_type": "code",
   "execution_count": null,
   "metadata": {},
   "outputs": [
    {
     "name": "stderr",
     "output_type": "stream",
     "text": [
      "/anaconda3/lib/python3.6/site-packages/IPython/core/interactiveshell.py:2785: DtypeWarning: Columns (18) have mixed types. Specify dtype option on import or set low_memory=False.\n",
      "  interactivity=interactivity, compiler=compiler, result=result)\n"
     ]
    }
   ],
   "source": [
    "import pandas as pd\n",
    "import numpy as np\n",
    "import datetime\n",
    "from shapely.geometry import Point\n",
    "from shapely.geometry.polygon import Polygon\n",
    "\n",
    "empty_matrix = pd.read_hdf('..//..//data//model//model_data_12H.h5')\n",
    "encampments = pd.read_csv('..//..//data//sf_open//311_Cases.csv')\n",
    "blocks = pd.read_csv('..//..//data//census//tl_2010_06075_tabblock10.csv')\n",
    "\n",
    "# Get encampments reports\n",
    "encampments = encampments[encampments['Request Type']=='Encampment Reports']\n",
    "encampments = encampments[encampments['Latitude']!=0]\n",
    "\n",
    "# Select relevant dates\n",
    "encampments['Opened_rnd'] = pd.to_datetime(encampments['Opened'])\n",
    "encampments = encampments[encampments['Opened_rnd']>'2016-05-01']\n",
    "\n",
    "# Make radius polygons for each block\n",
    "def make_poly(lon, lat):\n",
    "    radius = Point(lon,lat).buffer(0.01)\n",
    "    poly = Polygon(radius.exterior.coords)\n",
    "    return poly\n",
    "\n",
    "blocks['poly'] = blocks.apply(lambda row: make_poly(row['INTPTLON10'],row['INTPTLAT10']), axis=1)\n",
    "\n",
    "# Select block id and radius polygons\n",
    "blocks_poly = blocks.loc[:,[\n",
    "    \n",
    "    'GEOID10',\n",
    "    'poly'\n",
    "]]\n",
    "\n",
    "# Merge back to empty matrix\n",
    "encamp_matrix = empty_matrix.merge(blocks_poly, left_on='block_fips', right_on='GEOID10')\n",
    "encamp_matrix['Opened_rnd'] = pd.to_datetime(encamp_matrix['Opened_rnd'],format='%Y-%m-%d %H:%M:%S')\n",
    "\n",
    "# Find encampment reports that fall in the radius and time constraint\n",
    "encamp_count = []\n",
    "for index, row in encamp_matrix.iterrows():\n",
    "    \n",
    "    encamp_use = encampments[(encampments['Opened_rnd'] < row['Opened_rnd'] + datetime.timedelta(days=2))&\n",
    "                            (encampments['Opened_rnd'] > row['Opened_rnd'] - datetime.timedelta(days=2))]\n",
    "    adder = 0\n",
    "    for index2, row2 in encamp_use.iterrows():\n",
    "        \n",
    "        if row['poly'].contains(Point(row2['Longitude'],row2['Latitude'])):\n",
    "            adder += 1\n",
    "    encamp_count.append(adder)\n",
    "\n",
    "# Join the encampment count back to main df\n",
    "encamp_matrix['encamp_count'] = encamp_count\n",
    "encamp_matrix = encamp_matrix.loc[:,[\n",
    "    \n",
    "    'block_fips',\n",
    "    'Opened_rnd',\n",
    "    'encamp_count'\n",
    "]]\n",
    "\n",
    "# Save to CSV\n",
    "encamp_matrix.to_csv('..//..//data//created//encamp_feature.csv', index=False)"
   ]
  }
 ],
 "metadata": {
  "kernelspec": {
   "display_name": "Python 3",
   "language": "python",
   "name": "python3"
  },
  "language_info": {
   "codemirror_mode": {
    "name": "ipython",
    "version": 3
   },
   "file_extension": ".py",
   "mimetype": "text/x-python",
   "name": "python",
   "nbconvert_exporter": "python",
   "pygments_lexer": "ipython3",
   "version": "3.6.5"
  }
 },
 "nbformat": 4,
 "nbformat_minor": 2
}
