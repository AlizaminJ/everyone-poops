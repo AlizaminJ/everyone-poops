{
 "cells": [
  {
   "cell_type": "code",
   "execution_count": 27,
   "metadata": {},
   "outputs": [],
   "source": [
    "import pandas as pd\n",
    "import numpy as np\n",
    "import fiona\n",
    "from shapely.geometry import shape\n",
    "from shapely.geometry.polygon import Polygon\n",
    "from shapely.geometry.multipolygon import MultiPolygon\n",
    "from shapely.geometry import Point\n",
    "\n",
    "data = pd.read_csv('data_sf_open//LandUse2016.csv')\n",
    "blocks = pd.read_csv('data_census//tl_2010_06075_tabblock10.csv')"
   ]
  },
  {
   "cell_type": "code",
   "execution_count": 23,
   "metadata": {},
   "outputs": [
    {
     "name": "stderr",
     "output_type": "stream",
     "text": [
      "/anaconda3/lib/python3.6/site-packages/ipykernel_launcher.py:5: DeprecationWarning: Collection.__next__() is buggy and will be removed in Fiona 2.0. Switch to `next(iter(collection))`.\n",
      "  \"\"\"\n"
     ]
    }
   ],
   "source": [
    "lats, lons = [], []\n",
    "c = fiona.open(\"data_sf_open//land_use.shx\")\n",
    "for i in range(0,155468):\n",
    "\n",
    "    pol = next(iter(c))\n",
    "    geom = shape(pol['geometry'])\n",
    "    lons.append(geom.centroid.xy[0][0])\n",
    "    lats.append(geom.centroid.xy[1][0])"
   ]
  },
  {
   "cell_type": "code",
   "execution_count": null,
   "metadata": {},
   "outputs": [],
   "source": [
    "block_id = []\n",
    "\n",
    "for i in range(0,155468):\n",
    "    \n",
    "    c = fiona.open(\"data_sf_open//geo_export_d30ee75b-b941-4798-962c-05f777bc2084.shx\")\n",
    "    pol = next(iter(c))\n",
    "    geom = shape(pol['geometry'])\n",
    "\n",
    "    point_test = Point((lons[i],lats[i]))\n",
    "    \n",
    "    try:\n",
    "        while geom.contains(point_test) == False:\n",
    "            pol = next(iter(c))\n",
    "            geom = shape(pol['geometry'])\n",
    "        block_id.append(blocks['GEOID10'][int(pol['id'])])\n",
    "        \n",
    "    except:\n",
    "        block_id.append(np.nan)"
   ]
  },
  {
   "cell_type": "code",
   "execution_count": null,
   "metadata": {},
   "outputs": [],
   "source": [
    "data['block_fips'] = block_id"
   ]
  },
  {
   "cell_type": "code",
   "execution_count": null,
   "metadata": {},
   "outputs": [],
   "source": [
    "data.to_csv('land_use_blockid.csv', index = False)"
   ]
  }
 ],
 "metadata": {
  "kernelspec": {
   "display_name": "Python 3",
   "language": "python",
   "name": "python3"
  },
  "language_info": {
   "codemirror_mode": {
    "name": "ipython",
    "version": 3
   },
   "file_extension": ".py",
   "mimetype": "text/x-python",
   "name": "python",
   "nbconvert_exporter": "python",
   "pygments_lexer": "ipython3",
   "version": "3.6.5"
  }
 },
 "nbformat": 4,
 "nbformat_minor": 2
}
