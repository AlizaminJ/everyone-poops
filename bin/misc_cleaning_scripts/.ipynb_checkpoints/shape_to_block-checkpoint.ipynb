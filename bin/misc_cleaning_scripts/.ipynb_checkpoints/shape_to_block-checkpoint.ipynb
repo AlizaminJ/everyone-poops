{
 "cells": [
  {
   "cell_type": "code",
   "execution_count": null,
   "metadata": {},
   "outputs": [],
   "source": [
    "import pandas as pd\n",
    "import numpy as np\n",
    "import fiona\n",
    "from shapely.geometry import shape\n",
    "from shapely.geometry.polygon import Polygon\n",
    "from shapely.geometry.multipolygon import MultiPolygon\n",
    "from shapely.geometry import Point\n",
    "\n",
    "block = pd.read_csv('..//..//data//census//tl_2010_06075_tabblock10.csv')\n",
    "neigh_names = pd.read_csv('..//..//data//sf_open//Realtor_Neighborhoods.csv')"
   ]
  },
  {
   "cell_type": "code",
   "execution_count": null,
   "metadata": {},
   "outputs": [],
   "source": [
    "lats, lons = [], []\n",
    "c = fiona.open(\"..//..//data//sf_open//sf_blocks.shp\")\n",
    "\n",
    "for i in range(0,len(block)):\n",
    "    pol = next(iter(c))\n",
    "    try:\n",
    "        lons.append(shape(pol['geometry']).exterior.centroid.xy[0][0])\n",
    "        lats.append(shape(pol['geometry']).exterior.centroid.xy[1][0])\n",
    "    except:\n",
    "        lons.append(np.nan)\n",
    "        lats.append(np.nan)\n",
    "    \n",
    "block['lats'] = lats\n",
    "block['lons'] = lons"
   ]
  },
  {
   "cell_type": "code",
   "execution_count": null,
   "metadata": {},
   "outputs": [],
   "source": [
    "neigh_id = []\n",
    "\n",
    "for index, row in block.iterrows():\n",
    "    \n",
    "    c = fiona.open(\"..//..//data//sf_open//geo_export_d30ee75b-b941-4798-962c-05f777bc2084.shx\")\n",
    "    pol = next(iter(c))\n",
    "    geom = shape(pol['geometry'])\n",
    "\n",
    "    point_test = Point((row['lons'],row['lats']))\n",
    "    \n",
    "    try:\n",
    "        while geom.contains(point_test) == False:\n",
    "            pol = next(iter(c))\n",
    "            geom = shape(pol['geometry'])\n",
    "        neigh_id.append(pol['id'])\n",
    "        \n",
    "    except:\n",
    "        neigh_id.append(np.nan)"
   ]
  },
  {
   "cell_type": "code",
   "execution_count": null,
   "metadata": {},
   "outputs": [],
   "source": [
    "neigh_dict = dict(zip([str(i) for i in neigh_names.index], neigh_names.nbrhood))\n",
    "block_neigh = pd.DataFrame({'block_fips':block['GEOID10'], 'nbrhood_id':neigh_id})\n",
    "block_neigh['nbrhood_name'] = block_neigh['nbrhood_id'].map(neigh_dict)"
   ]
  },
  {
   "cell_type": "code",
   "execution_count": null,
   "metadata": {},
   "outputs": [],
   "source": [
    "block_neigh.to_csv('block_neigh.csv', index = False)"
   ]
  }
 ],
 "metadata": {
  "kernelspec": {
   "display_name": "Python 3",
   "language": "python",
   "name": "python3"
  },
  "language_info": {
   "codemirror_mode": {
    "name": "ipython",
    "version": 3
   },
   "file_extension": ".py",
   "mimetype": "text/x-python",
   "name": "python",
   "nbconvert_exporter": "python",
   "pygments_lexer": "ipython3",
   "version": "3.6.5"
  }
 },
 "nbformat": 4,
 "nbformat_minor": 2
}
