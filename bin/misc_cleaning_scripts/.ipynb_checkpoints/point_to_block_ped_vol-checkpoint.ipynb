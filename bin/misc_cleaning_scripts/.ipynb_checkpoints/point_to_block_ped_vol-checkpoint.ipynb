{
 "cells": [
  {
   "cell_type": "code",
   "execution_count": 57,
   "metadata": {},
   "outputs": [],
   "source": [
    "import pandas as pd\n",
    "import numpy as np\n",
    "import fiona\n",
    "from shapely.geometry import shape\n",
    "from shapely.geometry.polygon import Polygon\n",
    "from shapely.geometry.multipolygon import MultiPolygon\n",
    "from shapely.geometry import Point\n",
    "\n",
    "# load data\n",
    "block = pd.read_csv('data_census//tl_2010_06075_tabblock10.csv')\n",
    "data = pd.read_csv('data_sf_open//MTA.pedvolumemodel_data.csv')\n",
    "\n",
    "# clean the lat long fields\n",
    "data['LON'] = data['the_geom'].str.split(' ', expand = True)[1].str.replace('(','').astype(float)\n",
    "data['LAT'] = data['the_geom'].str.split(' ', expand = True)[2].str.replace(')','').astype(float)\n",
    "\n",
    "# path to shapefiles and create empty list\n",
    "shape_loc = 'Census 2000_ Blocks for San Francisco (no water)// \\\n",
    "             geo_export_10e804e3-5dd0-4986-9466-956443c0fd64.shp'\n",
    "block_id = []\n",
    "\n",
    "for index, row in data.iterrows():\n",
    "    \n",
    "    # open the shapefile and select the first record\n",
    "    c = fiona.open(\"..//..//data//sf_open//{}\".format(shape_loc))\n",
    "    pol = c.next()\n",
    "    geom = shape(pol['geometry'])\n",
    "\n",
    "    # create the first test point\n",
    "    point_test = Point((row['LON'],row['LAT']))\n",
    "    \n",
    "    try:\n",
    "        \n",
    "        # iterate through all the blocks until a match is found\n",
    "        while geom.contains(point_test) == False:\n",
    "            pol = c.next()\n",
    "            geom = shape(pol['geometry'])\n",
    "        \n",
    "        # append the block id to the empty list\n",
    "        block_id.append(block['GEOID10'][int(pol['id'])])\n",
    "        \n",
    "    except:\n",
    "        block_id.append(np.nan)\n",
    "        \n",
    "# create a new columns and save the dataframe\n",
    "data['block_fips'] = block_id\n",
    "data.to_csv('ped_vol_blockid.csv', index = False)"
   ]
  }
 ],
 "metadata": {
  "kernelspec": {
   "display_name": "Python 3",
   "language": "python",
   "name": "python3"
  },
  "language_info": {
   "codemirror_mode": {
    "name": "ipython",
    "version": 3
   },
   "file_extension": ".py",
   "mimetype": "text/x-python",
   "name": "python",
   "nbconvert_exporter": "python",
   "pygments_lexer": "ipython3",
   "version": "3.6.5"
  }
 },
 "nbformat": 4,
 "nbformat_minor": 2
}
