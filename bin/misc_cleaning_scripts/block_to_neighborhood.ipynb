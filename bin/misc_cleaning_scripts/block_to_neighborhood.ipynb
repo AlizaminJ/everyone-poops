{
 "cells": [
  {
   "cell_type": "code",
   "execution_count": 30,
   "metadata": {},
   "outputs": [],
   "source": [
    "import pandas as pd\n",
    "import numpy as np\n",
    "import fiona\n",
    "from shapely.geometry import shape\n",
    "from shapely.geometry.polygon import Polygon\n",
    "from shapely.geometry import Point\n",
    "\n",
    "# load data in\n",
    "cases = pd.read_csv('..//..//data//created//311_cases_clean.csv')\n",
    "case_block = pd.read_csv('..//..//data//created//caseid_block_test.csv')\n",
    "empty_block = pd.read_csv('..//..//data//created//all_blocks.csv')\n",
    "\n",
    "# merge two cases file and case_to_block file\n",
    "block_neigh = cases.merge(case_block[['CaseID','stfid']], on='CaseID')\n",
    "\n",
    "# drop the duplicates to get the id's we need\n",
    "block_neigh = block_neigh[['stfid','Neighborhood']].drop_duplicates()\n",
    "\n",
    "block_neigh.to_csv('..//..//data//created//block_neigh_2.csv', index=False)"
   ]
  },
  {
   "cell_type": "code",
   "execution_count": 56,
   "metadata": {},
   "outputs": [
    {
     "name": "stderr",
     "output_type": "stream",
     "text": [
      "/anaconda3/lib/python3.6/site-packages/ipykernel_launcher.py:10: DeprecationWarning: Collection.__next__() is buggy and will be removed in Fiona 2.0. Switch to `next(iter(collection))`.\n",
      "  # Remove the CWD from sys.path while we load stuff.\n",
      "/anaconda3/lib/python3.6/site-packages/ipykernel_launcher.py:20: DeprecationWarning: Collection.__next__() is buggy and will be removed in Fiona 2.0. Switch to `next(iter(collection))`.\n",
      "/anaconda3/lib/python3.6/site-packages/ipykernel_launcher.py:26: DeprecationWarning: Collection.__next__() is buggy and will be removed in Fiona 2.0. Switch to `next(iter(collection))`.\n"
     ]
    }
   ],
   "source": [
    "# create list and path to shapefile\n",
    "neigh_list = {}\n",
    "shape_loc = 'Census 2000_ Blocks for San Francisco (no water)//geo_export_10e804e3-5dd0-4986-9466-956443c0fd64.shp'\n",
    "neigh_loc = 'Realtor Neighborhoods//geo_export_4328a3a3-bfe9-46d0-9fc7-a84e86ff5ba0.shp'\n",
    "\n",
    "c_file = fiona.open(\"..//..//data//sf_open//{}\".format(shape_loc))\n",
    "\n",
    "for i in range(0,5791):\n",
    "\n",
    "    pol = c_file.next()\n",
    "    geom = shape(pol['geometry'])\n",
    "    \n",
    "    try:\n",
    "        lon = geom.exterior.centroid.xy[0][0]\n",
    "        lat = geom.exterior.centroid.xy[1][0]\n",
    "    except:\n",
    "        pass\n",
    "    \n",
    "    g_file = fiona.open(\"..//..//data//sf_open//{}\".format(neigh_loc))\n",
    "    g_pol = g_file.next()\n",
    "    g_geom = shape(pol['geometry'])\n",
    "    \n",
    "    try:\n",
    "        while g_geom.contains(Point((lon,lat))) == False:\n",
    "\n",
    "            g_pol = g_file.next()\n",
    "            g_geom = shape(pol['geometry'])\n",
    "\n",
    "        neigh_list[i] = g_pol['id']\n",
    "\n",
    "        g_file.close()\n",
    "    except:\n",
    "        pass"
   ]
  }
 ],
 "metadata": {
  "kernelspec": {
   "display_name": "Python 3",
   "language": "python",
   "name": "python3"
  },
  "language_info": {
   "codemirror_mode": {
    "name": "ipython",
    "version": 3
   },
   "file_extension": ".py",
   "mimetype": "text/x-python",
   "name": "python",
   "nbconvert_exporter": "python",
   "pygments_lexer": "ipython3",
   "version": "3.6.5"
  }
 },
 "nbformat": 4,
 "nbformat_minor": 2
}
