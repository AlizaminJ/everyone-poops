{
 "cells": [
  {
   "cell_type": "code",
   "execution_count": 23,
   "metadata": {},
   "outputs": [],
   "source": [
    "import pandas as pd\n",
    "import numpy as np\n",
    "import fiona\n",
    "from shapely.geometry import shape\n",
    "from shapely.geometry.polygon import Polygon\n",
    "from shapely.geometry.multipolygon import MultiPolygon\n",
    "from shapely.geometry import Point\n",
    "\n",
    "block = pd.read_csv('..//..//data//census//tl_2010_06075_tabblock10.csv')\n",
    "res_data = pd.read_csv('..//..//data//sf_open//Restaurant_Scores_-_LIVES_Standard.csv')"
   ]
  },
  {
   "cell_type": "code",
   "execution_count": 24,
   "metadata": {},
   "outputs": [],
   "source": [
    "res_data = res_data[res_data['business_latitude'].notnull()]"
   ]
  },
  {
   "cell_type": "code",
   "execution_count": null,
   "metadata": {},
   "outputs": [],
   "source": [
    "block_id = []\n",
    "\n",
    "for index, row in res_data.iterrows():\n",
    "    \n",
    "    c = fiona.open(\"..//..//data//sf_open//sf_blocks.shp\")\n",
    "    pol = next(iter(c))\n",
    "    geom = shape(pol['geometry'])\n",
    "\n",
    "    point_test = Point((row['business_longitude'],row['business_latitude']))\n",
    "    \n",
    "    try:\n",
    "        while geom.contains(point_test) == False:\n",
    "            pol = next(iter(c))\n",
    "            geom = shape(pol['geometry'])\n",
    "        block_id.append(block['GEOID10'][int(pol['id'])])\n",
    "        \n",
    "    except:\n",
    "        block_id.append(np.nan)"
   ]
  },
  {
   "cell_type": "code",
   "execution_count": null,
   "metadata": {},
   "outputs": [],
   "source": [
    "res_data['block_fips'] = block_id"
   ]
  },
  {
   "cell_type": "code",
   "execution_count": null,
   "metadata": {},
   "outputs": [],
   "source": [
    "data.to_csv('..//..//data//created//res_score_blockid.csv', index = False)"
   ]
  }
 ],
 "metadata": {
  "kernelspec": {
   "display_name": "Python 3",
   "language": "python",
   "name": "python3"
  },
  "language_info": {
   "codemirror_mode": {
    "name": "ipython",
    "version": 3
   },
   "file_extension": ".py",
   "mimetype": "text/x-python",
   "name": "python",
   "nbconvert_exporter": "python",
   "pygments_lexer": "ipython3",
   "version": "3.6.5"
  }
 },
 "nbformat": 4,
 "nbformat_minor": 2
}
