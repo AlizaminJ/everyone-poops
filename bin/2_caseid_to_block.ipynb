{
 "cells": [
  {
   "cell_type": "code",
   "execution_count": null,
   "metadata": {},
   "outputs": [
    {
     "name": "stderr",
     "output_type": "stream",
     "text": [
      "/anaconda3/lib/python3.6/site-packages/ipykernel_launcher.py:21: DeprecationWarning: Collection.__next__() is buggy and will be removed in Fiona 2.0. Switch to `next(iter(collection))`.\n",
      "/anaconda3/lib/python3.6/site-packages/ipykernel_launcher.py:31: DeprecationWarning: Collection.__next__() is buggy and will be removed in Fiona 2.0. Switch to `next(iter(collection))`.\n"
     ]
    }
   ],
   "source": [
    "import pandas as pd\n",
    "import numpy as np\n",
    "import fiona\n",
    "from shapely.geometry import shape\n",
    "from shapely.geometry.polygon import Polygon\n",
    "from shapely.geometry import Point\n",
    "\n",
    "# Load data and only select relevant cases\n",
    "data = pd.read_csv('..//data//created//311_cases_clean.csv')\n",
    "data['Opened'] = pd.to_datetime(data['Opened'])\n",
    "data = data[data['Opened']>'2016-05-01']\n",
    "\n",
    "# Create list and path to shapefile\n",
    "block_list = []\n",
    "shape_loc = 'Census 2000_ Blocks for San Francisco (no water)// \\\n",
    "             geo_export_10e804e3-5dd0-4986-9466-956443c0fd64.shp'\n",
    "\n",
    "for index, row in data.iterrows():\n",
    "    \n",
    "    # Open shapefile and get first record\n",
    "    c_file = fiona.open(\"..//data//sf_open//{}\".format(shape_loc))\n",
    "    pol = c_file.next()\n",
    "    geom = shape(pol['geometry'])\n",
    "\n",
    "    # Establish first test point\n",
    "    point_test = Point((row['Longitude'],row['Latitude']))\n",
    "    \n",
    "    try:\n",
    "        \n",
    "        # Loop through each case and grab the block dictionary associated with it\n",
    "        while geom.contains(point_test) == False:\n",
    "            pol = c_file.next()\n",
    "            geom = shape(pol['geometry'])\n",
    "            \n",
    "        # Append to list when match is found\n",
    "        block_list.append(dict(pol['properties']))\n",
    "        \n",
    "    except:\n",
    "        \n",
    "        # Append a dict with null values if none is found\n",
    "        block_list.append({k : np.nan for k in dict(pol['properties']).keys()})\n",
    "    \n",
    "    # Close the shapefile\n",
    "    c_file.close()\n",
    "    \n",
    "# Create dataframe with all matches\n",
    "block_df = pd.DataFrame(block_list)\n",
    "block_df['CaseID'] = list(data['CaseID'])\n",
    "\n",
    "block_df.to_csv('..//data//created//caseid_block.csv', index = False)\n",
    "\n",
    "# create list and path to shapefile\n",
    "block_list = []\n",
    "c_file = fiona.open(\"..//data//sf_open//{}\".format(shape_loc))\n",
    "pol = c_file.next()\n",
    "\n",
    "for i in range(0,5791):\n",
    "    \n",
    "    geom = shape(pol['geometry'])\n",
    "    block_list.append(dict(pol['properties']))\n",
    "    pol = c_file.next()\n",
    "    \n",
    "block_df = pd.DataFrame(block_list)\n",
    "block_df.to_csv('..//data//created//all_blocks.csv', index=False)"
   ]
  },
  {
   "cell_type": "code",
   "execution_count": null,
   "metadata": {},
   "outputs": [],
   "source": []
  }
 ],
 "metadata": {
  "kernelspec": {
   "display_name": "Python 3",
   "language": "python",
   "name": "python3"
  },
  "language_info": {
   "codemirror_mode": {
    "name": "ipython",
    "version": 3
   },
   "file_extension": ".py",
   "mimetype": "text/x-python",
   "name": "python",
   "nbconvert_exporter": "python",
   "pygments_lexer": "ipython3",
   "version": "3.6.5"
  }
 },
 "nbformat": 4,
 "nbformat_minor": 2
}
