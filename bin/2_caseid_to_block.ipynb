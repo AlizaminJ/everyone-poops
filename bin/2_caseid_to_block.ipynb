{
 "cells": [
  {
   "cell_type": "code",
   "execution_count": 69,
   "metadata": {},
   "outputs": [],
   "source": [
    "import pandas as pd\n",
    "import requests\n",
    "\n",
    "data = pd.read_csv('311_cases_clean.csv')\n",
    "data['Opened'] = pd.to_datetime(data['Opened'])\n",
    "data = data[data['Opened'] > '12-31-17']\n",
    "all_results = []\n",
    "\n",
    "for index, row in data.iterrows():\n",
    "    \n",
    "    # get results from FCC API and store as a dataframe\n",
    "    r = requests.get('https://geo.fcc.gov/api/census/area?lat={}&lon={}&format=json'.format(row['Latitude'],\n",
    "                                                                                            row['Longitude']))\n",
    "    \n",
    "    try:\n",
    "        results = r.json()['results']\n",
    "        for result in results:\n",
    "            result['CaseID'] = row['CaseID']\n",
    "        all_results.append(results)\n",
    "        \n",
    "    except:\n",
    "        pass"
   ]
  },
  {
   "cell_type": "code",
   "execution_count": 70,
   "metadata": {},
   "outputs": [],
   "source": [
    "pd.DataFrame(sum(all_results, [])).to_csv('caseid_block_2018.csv', index = False)"
   ]
  }
 ],
 "metadata": {
  "kernelspec": {
   "display_name": "Python 3",
   "language": "python",
   "name": "python3"
  },
  "language_info": {
   "codemirror_mode": {
    "name": "ipython",
    "version": 3
   },
   "file_extension": ".py",
   "mimetype": "text/x-python",
   "name": "python",
   "nbconvert_exporter": "python",
   "pygments_lexer": "ipython3",
   "version": "3.6.5"
  }
 },
 "nbformat": 4,
 "nbformat_minor": 2
}
