{
 "cells": [
  {
   "cell_type": "code",
   "execution_count": null,
   "metadata": {},
   "outputs": [
    {
     "name": "stderr",
     "output_type": "stream",
     "text": [
      "/anaconda3/lib/python3.6/site-packages/ipykernel_launcher.py:18: DeprecationWarning: Collection.__next__() is buggy and will be removed in Fiona 2.0. Switch to `next(iter(collection))`.\n",
      "/anaconda3/lib/python3.6/site-packages/ipykernel_launcher.py:25: DeprecationWarning: Collection.__next__() is buggy and will be removed in Fiona 2.0. Switch to `next(iter(collection))`.\n"
     ]
    }
   ],
   "source": [
    "import pandas as pd\n",
    "import numpy as np\n",
    "import requests\n",
    "import fiona\n",
    "from shapely.geometry import shape\n",
    "from shapely.geometry.polygon import Polygon\n",
    "from shapely.geometry import Point\n",
    "\n",
    "# load data and only select relevant cases\n",
    "data = pd.read_csv('..//data//created//311_cases_clean.csv')\n",
    "data['Opened'] = pd.to_datetime(data['Opened'])\n",
    "data = data[data['Opened']>'2016-05-01']\n",
    "\n",
    "# create list and path to shapefile\n",
    "block_list = []\n",
    "shape_loc = 'Census 2000_ Blocks for San Francisco (no water)//geo_export_10e804e3-5dd0-4986-9466-956443c0fd64.shp'\n",
    "\n",
    "for index, row in data.iterrows():\n",
    "    \n",
    "    # open shapefile and get first record\n",
    "    c_file = fiona.open(\"..//data//sf_open//{}\".format(shape_loc))\n",
    "    pol = c_file.next()\n",
    "    geom = shape(pol['geometry'])\n",
    "\n",
    "    # establish first test point\n",
    "    point_test = Point((row['Longitude'],row['Latitude']))\n",
    "    \n",
    "    try:\n",
    "        \n",
    "        # loop through each case and grab the block dictionary associated with it\n",
    "        while geom.contains(point_test) == False:\n",
    "            pol = c_file.next()\n",
    "            geom = shape(pol['geometry'])\n",
    "            \n",
    "        # append to list when match is found\n",
    "        block_list.append(dict(pol['properties']))\n",
    "        \n",
    "    except:\n",
    "        \n",
    "        # append a dict with null values if none is found\n",
    "        block_list.append({k : np.nan for k in dict(pol['properties']).keys()})\n",
    "    \n",
    "    # close the shapefile\n",
    "    c_file.close()\n",
    "    \n",
    "# create dataframe with all matches"
   ]
  },
  {
   "cell_type": "code",
   "execution_count": null,
   "metadata": {},
   "outputs": [],
   "source": [
    "block_df = pd.DataFrame(block_list)\n",
    "block_df['CaseID'] = data['CaseID']\n",
    "\n",
    "block_df.to_csv('..//data//created//caseid_block_test.csv', index = False)"
   ]
  }
 ],
 "metadata": {
  "kernelspec": {
   "display_name": "Python 3",
   "language": "python",
   "name": "python3"
  },
  "language_info": {
   "codemirror_mode": {
    "name": "ipython",
    "version": 3
   },
   "file_extension": ".py",
   "mimetype": "text/x-python",
   "name": "python",
   "nbconvert_exporter": "python",
   "pygments_lexer": "ipython3",
   "version": "3.6.5"
  }
 },
 "nbformat": 4,
 "nbformat_minor": 2
}
