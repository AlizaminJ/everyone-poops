{
 "cells": [
  {
   "cell_type": "code",
   "execution_count": 6,
   "metadata": {},
   "outputs": [],
   "source": [
    "import pandas as pd\n",
    "import numpy as np\n",
    "\n",
    "block_meta = pd.read_csv('..//data//created//block_meta.csv')\n",
    "\n",
    "data = pd.read_hdf('..//data//model//model_data_6H.h5')\n",
    "data.drop('CaseID', axis = 1, inplace = True)\n",
    "\n",
    "data['has_poop'] = data['poop'].groupby(data['block_fips']).transform('sum')\n",
    "data = data[data['has_poop']>0]\n",
    "\n",
    "block_neigh = pd.read_csv('..//data//created//block_neigh.csv')\n",
    "block_neigh = block_neigh[block_neigh['nbrhood_name'].notnull()]\n",
    "block_neigh = block_neigh.loc[:,[\n",
    "    \n",
    "    'block_fips',\n",
    "    'nbrhood_name'\n",
    "]]"
   ]
  },
  {
   "cell_type": "code",
   "execution_count": 7,
   "metadata": {},
   "outputs": [],
   "source": [
    "data = data.merge(block_neigh, on = 'block_fips')\n",
    "\n",
    "data['Opened_rnd'] = pd.to_datetime(data['Opened_rnd'], format=\"%Y-%m-%d %H:%M:%S\")\n",
    "data['day_of_week'] = data['Opened_rnd'].dt.dayofweek\n",
    "data['month'] = data['Opened_rnd'].dt.month\n",
    "data['hour'] = data['Opened_rnd'].dt.hour\n",
    "\n",
    "data['winter'] = np.where(data['month'].isin([1, 2, 3]), 1, 0)\n",
    "data['spring'] = np.where(data['month'].isin([4, 5, 6]), 1, 0)\n",
    "data['summer'] = np.where(data['month'].isin([7, 8, 9]), 1, 0)\n",
    "data['fall'] = np.where(data['month'].isin([10, 11, 12]), 1, 0)"
   ]
  },
  {
   "cell_type": "code",
   "execution_count": 8,
   "metadata": {},
   "outputs": [],
   "source": [
    "neigh_dummies = pd.get_dummies(data['nbrhood_name'])\n",
    "data = pd.concat((data,neigh_dummies), axis=1)\n",
    "del neigh_dummies\n",
    "\n",
    "month_dummies = pd.get_dummies(data['month'], prefix='month')\n",
    "data = pd.concat((data,month_dummies), axis=1)\n",
    "del month_dummies\n",
    "\n",
    "hour_dummies = pd.get_dummies(data['hour'], prefix='hour')\n",
    "data = pd.concat((data,hour_dummies), axis=1)\n",
    "del hour_dummies"
   ]
  },
  {
   "cell_type": "code",
   "execution_count": 9,
   "metadata": {},
   "outputs": [],
   "source": [
    "data = data.merge(block_meta, on='block_fips')"
   ]
  },
  {
   "cell_type": "code",
   "execution_count": 10,
   "metadata": {},
   "outputs": [],
   "source": [
    "data_small = data[data['nbrhood_name']=='Tenderloin']"
   ]
  },
  {
   "cell_type": "code",
   "execution_count": 16,
   "metadata": {},
   "outputs": [],
   "source": [
    "data_small.to_csv('..//data//model//data_to_model.csv', index = False)"
   ]
  }
 ],
 "metadata": {
  "kernelspec": {
   "display_name": "Python 3",
   "language": "python",
   "name": "python3"
  },
  "language_info": {
   "codemirror_mode": {
    "name": "ipython",
    "version": 3
   },
   "file_extension": ".py",
   "mimetype": "text/x-python",
   "name": "python",
   "nbconvert_exporter": "python",
   "pygments_lexer": "ipython3",
   "version": "3.6.5"
  }
 },
 "nbformat": 4,
 "nbformat_minor": 2
}
